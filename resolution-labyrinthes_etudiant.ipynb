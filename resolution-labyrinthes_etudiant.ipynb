{
 "cells": [
  {
   "attachments": {},
   "cell_type": "markdown",
   "metadata": {},
   "source": [
    "# Résolution de labyrinthes\n",
    "\n",
    "Dans ce sujet de TP, sur 4 séances, nous allons voir comment implémenter la formalisation d'un problème de résolution par l'exploration ainsi que les différents algorithmes de recherche vus en cours puis en TD. Nous verrons enfin comment utiliser cela pour effectuer la résolution de labyrinthes.\n"
   ]
  },
  {
   "cell_type": "code",
   "execution_count": 83,
   "metadata": {},
   "outputs": [],
   "source": [
    "from numpy.random import randint\n",
    "import matplotlib.pyplot as plt\n",
    "import random\n",
    "import heapq\n",
    "import math\n",
    "import sys\n",
    "from collections import defaultdict, deque, Counter\n",
    "from itertools import combinations"
   ]
  },
  {
   "attachments": {},
   "cell_type": "markdown",
   "metadata": {},
   "source": [
    "# Définition d'un problème\n",
    "\n",
    "On commence par définir une classe abstraite pour représenter un `Problem` qui sera résolu par l'exploration.\n",
    "\n",
    "On indique l'état initial et soit l'état final (s'il y en a un seul), soit la manière de savoir si on se trouve dans un état final (en redéfinissant la méthode `is_goal`, dans la sous-classe qui implémente la classe `Problem`). La sous-classe devra également implémenter le constructeur `__init__`(en ajoutant éventuellement d'autres paramètres) et les méthodes `actions`, `result` et `action_cost`. \n"
   ]
  },
  {
   "cell_type": "code",
   "execution_count": 84,
   "metadata": {},
   "outputs": [],
   "source": [
    "class Problem:\n",
    "    \"\"\"The abstract class for a formal problem. A new domain subclasses this,\n",
    "    overriding `actions` and `results`, and perhaps other methods.\n",
    "    The default action cost is 1 for all states.\n",
    "    When you create an instance of a subclass, specify `initial`, and `goal` states \n",
    "    (or give an `is_goal` method) and perhaps other arguments for the subclass.\"\"\"\n",
    "\n",
    "\n",
    "    def __init__(self, initial=None, goal=None): \n",
    "        \"\"\"The constructor specifies the initial state, and possibly a goal\n",
    "        state, if there is a unique goal. Your subclass's constructor can add\n",
    "        other arguments.\"\"\"\n",
    "        self.initial = initial\n",
    "        self.goal = goal\n",
    "        \n",
    "    def actions(self, state):     \n",
    "        \"\"\"Return the actions that can be executed in the given\n",
    "        state. The result would typically be a list, but if there are\n",
    "        many actions, consider yielding them one at a time in an\n",
    "        iterator, rather than building them all at once.\"\"\"   \n",
    "        raise NotImplementedError\n",
    "    \n",
    "    def result(self, state, action): \n",
    "        \"\"\"Return the state that results from executing the given\n",
    "        action in the given state. The action must be one of\n",
    "        self.actions(state).\"\"\"\n",
    "        raise NotImplementedError\n",
    "    \n",
    "    def is_goal(self, state):   \n",
    "        \"\"\"Return True if the state is a goal. The default method compares the\n",
    "        state to self.goal or checks for state in self.goal if it is a\n",
    "        list, as specified in the constructor.\"\"\"     \n",
    "        return state == self.goal\n",
    "    \n",
    "    def action_cost(self, s, a, s1): \n",
    "        \"\"\"Return the cost of an action a from state s to state s1.\"\"\"\n",
    "        return 1\n",
    "    \n",
    "    def __str__(self):\n",
    "        return '{}({!r}, {!r})'.format(\n",
    "            type(self).__name__, self.initial, self.goal)"
   ]
  },
  {
   "attachments": {},
   "cell_type": "markdown",
   "metadata": {},
   "source": [
    "# Définition d'un noeud\n",
    "\n",
    "Dans la classe `Node`, on définit un noeud dans un arbre de recherche.\n",
    "Le noeud contient un pointeur vers son noeud parent `parent` ainsi que vers l'état `state` auquel il correspond (la notion d'état sera défini au moment de la définition du problème représenté). Il est à noter que si un état peut être atteint par 2 chemins, il y aura alors 2 noeuds contenant le même état. Le noeud contient également l'action `action` qui a permis d'atteindre l'état associé au noeud ainsi que le coût total `path_cost` du chemin allant du noeud initial au noeud courant (correspondant à la valeur g dans les algorithmes d'exploration)."
   ]
  },
  {
   "cell_type": "code",
   "execution_count": 85,
   "metadata": {},
   "outputs": [],
   "source": [
    "class Node:\n",
    "    \"A Node in a search tree.\"\n",
    "    def __init__(self, state, parent=None, action=None, path_cost=0):\n",
    "        self.state = state\n",
    "        self.parent = parent\n",
    "        self.action = action\n",
    "        self.path_cost = path_cost\n",
    "\n",
    "    def __repr__(self): \n",
    "        return '<{}>'.format(self.state)\n",
    "    \n",
    "    def __len__(self): \n",
    "        return 0 if self.parent is None else (1 + len(self.parent))\n",
    "    \n",
    "    def __lt__(self, other): \n",
    "        return self.path_cost < other.path_cost\n",
    "    "
   ]
  },
  {
   "attachments": {},
   "cell_type": "markdown",
   "metadata": {},
   "source": [
    "## Fonctions relatives aux noeuds d'un arbre de recherche\n",
    "\n",
    "On définit également quelques fonctions sur les noeuds : `expand` pour générer les noeuds successeurs d'un noeud donné, `path_actions` pour récupérer la liste d'actions ayant permis d'arriver jusqu'au noeud et `path_states` pour récupérer la liste des états ayant permis d'arriver jusqu'au noeud.\n",
    "\n",
    "### Question 1 : compléter ces 3 fonctions"
   ]
  },
  {
   "cell_type": "code",
   "execution_count": 86,
   "metadata": {},
   "outputs": [],
   "source": [
    "def expand(problem: Problem, node: Node): # Expand a node, generating the children nodes (see slide 18 in the lecture).\n",
    "    ret = []\n",
    "\n",
    "    for act in problem.actions(node.state):\n",
    "        res = problem.result(node.state, act)\n",
    "        \n",
    "        ret.append(Node(\n",
    "            res,\n",
    "            node,\n",
    "            act,\n",
    "            node.path_cost + problem.action_cost(node.state, act, res)\n",
    "        ))\n",
    "    \n",
    "    return ret\n",
    "\n",
    "\n",
    "def path_actions(node: Node | None):\n",
    "    if node.parent == None:\n",
    "        return []\n",
    "    \n",
    "    return path_actions(node.parent) + [node.action]\n",
    "\n",
    "\n",
    "def path_states(node: Node | None):\n",
    "    if node == None:\n",
    "        return []\n",
    "    \n",
    "    return path_states(node.parent) + [node.state]\n",
    "    "
   ]
  },
  {
   "attachments": {},
   "cell_type": "markdown",
   "metadata": {},
   "source": [
    "# Différents types de files pour implémenter la frontière\n",
    "\n",
    "Les files FIFO et LIFO sont utilisées, respectivement, pour implémenter la `frontière` dans l'exploration en largeur et dans l'exploration en profondeur. La file de priorié `PriorityQueue` est utilisée dans l'exploration gloutonne et dans l'exploration A* pour garder la frontière triée en fonction du score croissant `f(item)`."
   ]
  },
  {
   "cell_type": "code",
   "execution_count": 87,
   "metadata": {},
   "outputs": [],
   "source": [
    "FIFOQueue = deque\n",
    "\n",
    "LIFOQueue = list\n",
    "\n",
    "class PriorityQueue:\n",
    "    \"\"\"A queue in which the item with minimum f(item) is always popped first.\"\"\"\n",
    "\n",
    "    def __init__(self, items=(), key=lambda x: x): \n",
    "        self.key = key\n",
    "        self.items = [] # a heap of (score, item) pairs\n",
    "        for item in items:\n",
    "            self.add(item)\n",
    "         \n",
    "    def add(self, item):\n",
    "        \"\"\"Add item to the queue.\"\"\"\n",
    "        pair = (self.key(item), item)\n",
    "        heapq.heappush(self.items, pair)\n",
    "\n",
    "    def pop(self):\n",
    "        \"\"\"Pop and return the item with min f(item) value.\"\"\"\n",
    "        return heapq.heappop(self.items)[1]\n",
    "    \n",
    "    def top(self): \n",
    "        return self.items[0][1]\n",
    "\n",
    "    def __len__(self): \n",
    "        return len(self.items)\n"
   ]
  },
  {
   "attachments": {},
   "cell_type": "markdown",
   "metadata": {},
   "source": [
    "# Algorithmes de recherche\n",
    "\n",
    "Les algorithmes de recherche non-informée (exploration en largeur et exploration en profondeur, en mémorisant ou non les états déjà exploras) ainsi que les algorithmes de recherche informée (exploration gloutonne et A*) seront implémentés ici."
   ]
  },
  {
   "cell_type": "code",
   "execution_count": 88,
   "metadata": {},
   "outputs": [],
   "source": [
    "# Noeud particulier pour indiquer qu'un algorithme ne peut pas trouver de solution    \n",
    "failure = Node('failure', path_cost=math.inf)"
   ]
  },
  {
   "attachments": {},
   "cell_type": "markdown",
   "metadata": {},
   "source": [
    "## Exploration en largeur de l'arbre de recherche\n",
    "\n",
    "### Question 2 : implémenter l'exploration en largeur de l'arbre de recherche (voir slides 18 et 20 du cours)"
   ]
  },
  {
   "cell_type": "code",
   "execution_count": 89,
   "metadata": {},
   "outputs": [],
   "source": [
    "def breadth_first_tree_search(problem: Problem): # Search the shallowest nodes in the search tree first.\n",
    "    frontier = deque()\n",
    "\n",
    "    frontier.append(Node(problem.initial))\n",
    "\n",
    "    while len(frontier) > 0:\n",
    "        currentNode: Node = frontier.popleft()\n",
    "\n",
    "        if problem.is_goal(currentNode.state):\n",
    "            return currentNode\n",
    "        \n",
    "        frontier.extend(expand(problem, currentNode))\n",
    "\n",
    "    return None"
   ]
  },
  {
   "attachments": {},
   "cell_type": "markdown",
   "metadata": {},
   "source": [
    "## Exploration en profondeur de l'arbre de recherche\n",
    "\n",
    "### Question 3 : implémenter l'exploration en profondeur de l'arbre de recherche (voir slides 18 et 21 du cours)"
   ]
  },
  {
   "cell_type": "code",
   "execution_count": 90,
   "metadata": {},
   "outputs": [],
   "source": [
    "def depth_first_tree_search(problem):\n",
    "    frontier = []\n",
    "\n",
    "    frontier.append(Node(problem.initial))\n",
    "\n",
    "    while len(frontier) > 0:\n",
    "        currentNode: Node = frontier.pop()\n",
    "\n",
    "        if problem.is_goal(currentNode.state):\n",
    "            return currentNode\n",
    "        \n",
    "        frontier.extend(expand(problem, currentNode))\n",
    "\n",
    "    return None"
   ]
  },
  {
   "attachments": {},
   "cell_type": "markdown",
   "metadata": {},
   "source": [
    "## Exploration en largeur du graphe des états\n",
    "\n",
    "### Question 4 : implémenter l'exploration en largeur du graphe des états (voir slide 27 du cours)"
   ]
  },
  {
   "cell_type": "code",
   "execution_count": 91,
   "metadata": {},
   "outputs": [],
   "source": [
    "def breadth_first_graph_search(problem):\n",
    "    frontier = deque()\n",
    "    explored: dict[tuple, bool] = {}\n",
    "\n",
    "    frontier.append(Node(problem.initial))\n",
    "\n",
    "    while len(frontier) > 0:\n",
    "        currentNode: Node = frontier.popleft()\n",
    "\n",
    "        if explored.get(currentNode.state, False):\n",
    "            continue\n",
    "\n",
    "        if problem.is_goal(currentNode.state):\n",
    "            return currentNode\n",
    "        \n",
    "        frontier.extend(expand(problem, currentNode))\n",
    "\n",
    "        explored[currentNode.state] = True\n",
    "\n",
    "    return None"
   ]
  },
  {
   "attachments": {},
   "cell_type": "markdown",
   "metadata": {},
   "source": [
    "## Exploration en profondeur du graphe des états\n",
    "\n",
    "### Question 5 : implémenter l'exploration en profondeur du graphe des états (voir slide 27 du cours)"
   ]
  },
  {
   "cell_type": "code",
   "execution_count": 92,
   "metadata": {},
   "outputs": [],
   "source": [
    "def depth_first_graph_search(problem):\n",
    "    frontier = []\n",
    "    explored: dict[tuple, bool] = {}\n",
    "\n",
    "    frontier.append(Node(problem.initial))\n",
    "\n",
    "    while len(frontier) > 0:\n",
    "        currentNode: Node = frontier.pop()\n",
    "\n",
    "        if explored.get(currentNode.state, False):\n",
    "            continue\n",
    "\n",
    "        if problem.is_goal(currentNode.state):\n",
    "            return currentNode\n",
    "        \n",
    "        frontier.extend(expand(problem, currentNode))\n",
    "\n",
    "        explored[currentNode.state] = True\n",
    "\n",
    "    return None"
   ]
  },
  {
   "attachments": {},
   "cell_type": "markdown",
   "metadata": {},
   "source": [
    "## Exploration gloutonne du graphe des états\n",
    "\n",
    "### Question 6 : implémenter l'exploration gloutonne du graphe des états (voir slides 27 et 34 du cours)"
   ]
  },
  {
   "cell_type": "code",
   "execution_count": 93,
   "metadata": {},
   "outputs": [],
   "source": [
    "def greedy_graph_search(problem, h=None):\n",
    "    \"\"\"Search nodes with minimum h(n).\"\"\"\n",
    "    raise NotImplementedError"
   ]
  },
  {
   "attachments": {},
   "cell_type": "markdown",
   "metadata": {},
   "source": [
    "## Exploration A* du graphe des états\n",
    "\n",
    "### Question 7 : implémenter l'exploration A* du graphe des états (voir slides 27 et 37 du cours)"
   ]
  },
  {
   "cell_type": "code",
   "execution_count": 94,
   "metadata": {},
   "outputs": [],
   "source": [
    "def astar_graph_search(problem, h=None):\n",
    "    \"\"\"Search nodes with minimum f(n) = g(n) + h(n).\"\"\"\n",
    "    raise NotImplementedError"
   ]
  },
  {
   "attachments": {},
   "cell_type": "markdown",
   "metadata": {},
   "source": [
    "# Définition d'un labyrinthe\n",
    "\n",
    "On commence par définir la classe `Cell` (pour représenter les cases d'un labyrinthe) puis la classe `Labyrinth` pour représenter le labyrinthe constitué de cases."
   ]
  },
  {
   "cell_type": "code",
   "execution_count": 95,
   "metadata": {},
   "outputs": [],
   "source": [
    "from numpy.random import randint\n",
    "import matplotlib.pyplot as plt\n",
    "\n",
    "\n",
    "class Stack:\n",
    "    \"\"\" définition d'une pile à l'aide de la classe List \"\"\"\n",
    "    def __init__(self, lst: list = []):\n",
    "        self.lst = lst\n",
    "\n",
    "    def empty(self):\n",
    "        return self.lst == []\n",
    "\n",
    "    def push(self, x):\n",
    "        self.lst.append(x)\n",
    "\n",
    "    def pop(self):\n",
    "        if self.empty():\n",
    "            raise ValueError(\"pile vide\")\n",
    "        return self.lst.pop()\n",
    "\n",
    "\n",
    "class Cell:\n",
    "    def __init__(self, N=False, E=False, S=False, W=False):\n",
    "        self.N = N\n",
    "        self.E = E\n",
    "        self.S = S\n",
    "        self.W = W\n",
    "    \n",
    "\n",
    "class Labyrinth:\n",
    "    def __init__(self, p, q, tab=None):\n",
    "        self.p = p\n",
    "        self.q = q\n",
    "        if tab == None:\n",
    "            self.tab = [[Cell() for j in range(q)] for i in range(p)]\n",
    "        else:\n",
    "            self.tab = tab\n",
    "        \n",
    "    def entrance(self):\n",
    "        return (0, 0)\n",
    "\n",
    "    def exit(self):\n",
    "        return (self.p-1, self.q-1)\n",
    "\n",
    "    def create(self):\n",
    "        pile = Stack()\n",
    "        dejavu = [[False for j in range(self.q)] for i in range(self.p)]\n",
    "        i, j = randint(self.p), randint(self.q)\n",
    "        pile.push((i, j))\n",
    "        dejavu[i][j] = True\n",
    "        while not pile.empty():\n",
    "            (i, j) = pile.pop()\n",
    "            v = []\n",
    "            if j < self.q-1 and not dejavu[i][j+1]:\n",
    "                v.append('E')\n",
    "            if i > 0 and not dejavu[i-1][j]:\n",
    "                v.append('N')\n",
    "            if j > 0 and not dejavu[i][j-1]:\n",
    "                v.append('W')\n",
    "            if i < self.p-1 and not dejavu[i+1][j]:\n",
    "                v.append('S')\n",
    "            if len(v) > 1:\n",
    "                pile.push((i, j))\n",
    "            if len(v) > 0:\n",
    "                c = v[randint(len(v))]\n",
    "                if c == 'N':\n",
    "                    self.tab[i][j].N = True\n",
    "                    self.tab[i-1][j].S = True\n",
    "                    dejavu[i-1][j] = True\n",
    "                    pile.push((i-1, j))\n",
    "                elif c == 'W':\n",
    "                    self.tab[i][j].W = True\n",
    "                    self.tab[i][j-1].E = True\n",
    "                    dejavu[i][j-1] = True\n",
    "                    pile.push((i, j-1))\n",
    "                elif c == 'S':\n",
    "                    self.tab[i][j].S = True\n",
    "                    self.tab[i+1][j].N = True\n",
    "                    dejavu[i+1][j] = True\n",
    "                    pile.push((i+1, j))\n",
    "                else:\n",
    "                    self.tab[i][j].E = True\n",
    "                    self.tab[i][j+1].W = True\n",
    "                    dejavu[i][j+1] = True\n",
    "                    pile.push((i, j+1))\n",
    "\n",
    "    def show(self, sol=Stack()):\n",
    "        fig = plt.figure(1, figsize=(self.q/3.2, self.p/3.2))\n",
    "        ax = fig.add_subplot(111)\n",
    "        ax.axis([-1, self.q+1, -1, self.p+1])\n",
    "        ax.get_xaxis().set_visible(False)\n",
    "        ax.get_yaxis().set_visible(False)\n",
    "        ax.plot([0, 0, self.q, self.q, 0],\n",
    "                 [0, self.p, self.p, 0, 0], linewidth=2)\n",
    "        for i in range(self.p-1):\n",
    "            for j in range(self.q):\n",
    "                if not self.tab[i][j].S:\n",
    "                    ax.plot([j, j+1], [self.p-i-1, self.p-i-1], 'b')\n",
    "        for j in range(self.q-1):\n",
    "            for i in range(self.p):\n",
    "                if not self.tab[i][j].E:\n",
    "                    ax.plot([j+1, j+1], [self.p-i, self.p-i-1], 'b')\n",
    "        if not sol.empty():\n",
    "            X, Y = [], []\n",
    "            while not sol.empty():\n",
    "                (i, j) = sol.pop()\n",
    "                X.append(j+.5)\n",
    "                Y.append(self.p-i-.5)\n",
    "            ax.plot(X, Y, 'r', linewidth=2)\n",
    "        plt.show()"
   ]
  },
  {
   "attachments": {},
   "cell_type": "markdown",
   "metadata": {},
   "source": [
    "## Test de la classe Labyrinth"
   ]
  },
  {
   "cell_type": "code",
   "execution_count": 96,
   "metadata": {},
   "outputs": [
    {
     "data": {
      "image/png": "[encoded data removed]",
      "text/plain": [
       "<Figure size 562.5x375 with 1 Axes>"
      ]
     },
     "metadata": {},
     "output_type": "display_data"
    },
    {
     "name": "stdout",
     "output_type": "stream",
     "text": [
      "entrée : (0, 0)\n",
      "sortie : (11, 17)\n"
     ]
    },
    {
     "data": {
      "image/png": "[encoded data removed]",
      "text/plain": [
       "<Figure size 125x156.25 with 1 Axes>"
      ]
     },
     "metadata": {},
     "output_type": "display_data"
    },
    {
     "name": "stdout",
     "output_type": "stream",
     "text": [
      "False\n",
      "entrée : (0, 0)\n",
      "sortie : (4, 3)\n"
     ]
    }
   ],
   "source": [
    "# création et affichage d'un labyrinthe généré aléatoirement à partir de la taille souhaitée\n",
    "lab1 = Labyrinth(12, 18)\n",
    "lab1.create()\n",
    "lab1.show()\n",
    "\n",
    "print(\"entrée : \" + str(lab1.entrance()))\n",
    "print(\"sortie : \" + str(lab1.exit()))\n",
    "\n",
    "\n",
    "# création et affichage d'un labyrinthe à partir d'un tableau de cellules, indiquant les murs autour de chaque case\n",
    "tab = [\n",
    "    [Cell(False, True, True, False), Cell(False, True, False, True), Cell(False, True, True, True), Cell(False, False, True, True)],\n",
    "    [Cell(True, True, False, False), Cell(False, False, False, True), Cell(True, False, True, False), Cell(True, False, True, False)],\n",
    "    [Cell(False, True, True, False), Cell(False, True, False, True), Cell(True, False, True, True), Cell(True, False, True, False)],\n",
    "    [Cell(True, False, False, False), Cell(False, True, True, False), Cell(False, False, False, True), Cell(True, False, True, False)],\n",
    "    [Cell(False, True, False, False), Cell(True, True, False, True), Cell(False, True, False, True), Cell(True, False, False, True)],\n",
    "]\n",
    "\n",
    "lab2 = Labyrinth(5, 4, tab)\n",
    "lab2.show()\n",
    "print(lab2.tab[0][0].N)\n",
    "\n",
    "print(\"entrée : \" + str(lab2.entrance()))\n",
    "print(\"sortie : \" + str(lab2.exit()))\n"
   ]
  },
  {
   "attachments": {},
   "cell_type": "markdown",
   "metadata": {},
   "source": [
    "# Résolution de labyrinthe\n",
    "\n",
    "La résolution d'un problème de type labyrinthe implique de naivguer dans une grille 2D avec des cases pouvant contenir des murs dans les 4 directions autour de chaque case (nord, est, sud et ouest). \n",
    "\n",
    "Il est nécessaire d'avoir un attribut `labyrinth` pour représenter le labyrinthe.\n",
    "\n",
    "Les états sont les positions des cellules sous la forme `(x, y)`, comme par exemple, `(4, 2)`. \n",
    "\n",
    "Les actions peuvent, par exemple, être représentées sous la forme de mouvements `(dx, dy)` d'une case à une autre, tel que `(0, -1)`, ce qui signifie de ne pas modifier la coordonnée `x` et de décrémenter la coordonnée `y` de 1 ou bien par des chaînes de caractères `H`, `B`, `G` et `D`, correspondant aux actions \"haut\", \"bas\", \"gauche\" et \"droite\"."
   ]
  },
  {
   "attachments": {},
   "cell_type": "markdown",
   "metadata": {},
   "source": [
    "### Question 8 : compléter les méthodes de la classe `LabyrinthProblem`, en reprenant celles de la classe `Problem` que vous souhaitez implémenter"
   ]
  },
  {
   "cell_type": "code",
   "execution_count": 97,
   "metadata": {},
   "outputs": [],
   "source": [
    "class LabyrinthProblem(Problem):\n",
    "    \n",
    "    def __init__(self, labyrinth: Labyrinth):\n",
    "        super().__init__(initial=labyrinth.entrance(), goal=labyrinth.exit())\n",
    "        self.labyrinth = labyrinth\n",
    "    \n",
    "        \n",
    "    def actions(self, state: tuple[int,int]):\n",
    "        ret = []\n",
    "\n",
    "        currentCell = self.labyrinth.tab[state[0]][state[1]]\n",
    "\n",
    "        if currentCell.N: ret.append(\"H\")\n",
    "        if currentCell.S: ret.append(\"B\")\n",
    "        if currentCell.W: ret.append(\"G\")\n",
    "        if currentCell.E: ret.append(\"D\")\n",
    "\n",
    "        return ret\n",
    "    \n",
    "    \n",
    "    def result(self, state: tuple[int,int], action: chr):\n",
    "        newState: tuple[int, int]\n",
    "\n",
    "        match action:\n",
    "            case \"H\":\n",
    "                newState = (state[0]-1, state[1])\n",
    "            case \"B\":\n",
    "                newState = (state[0]+1, state[1])\n",
    "            case \"G\":\n",
    "                newState = (state[0], state[1]-1)\n",
    "            case \"D\":\n",
    "                newState = (state[0], state[1]+1)\n",
    "        \n",
    "        return newState\n",
    "    \n",
    "    \n",
    "    def h(self, node: Node):\n",
    "        goal = self.labyrinth.exit\n",
    "        current: tuple[int, int] = node.state\n",
    "\n",
    "        return abs(current[0]-goal[0]) + abs(current[1]-goal[1])\n",
    "\n",
    "\n",
    "# autres fonctions\n",
    "\n",
    "def g(n): \n",
    "    return n.path_cost"
   ]
  },
  {
   "attachments": {},
   "cell_type": "markdown",
   "metadata": {},
   "source": [
    "### Question 9 : tester la résolution de problèmes de labyrinthes, en utilisant la classe `LabyrinthProblem`, ainsi que les fonctions correspondant aux différents algorithmes de recherche + affichage du chemin parcouru, sur le labyrinthe"
   ]
  },
  {
   "cell_type": "code",
   "execution_count": 98,
   "metadata": {},
   "outputs": [
    {
     "data": {
      "image/png": "[encoded data removed]",
      "text/plain": [
       "<Figure size 125x156.25 with 1 Axes>"
      ]
     },
     "metadata": {},
     "output_type": "display_data"
    },
    {
     "name": "stdout",
     "output_type": "stream",
     "text": [
      "\n",
      "exploration en largeur (en arbre)\n",
      "\tétats sur le chemin vers la sortie : [(0, 0), (0, 1), (0, 2), (0, 3), (1, 3), (2, 3), (3, 3), (4, 3)]\n",
      "\tactions sur le chemin vers la sortie : ['D', 'D', 'D', 'B', 'B', 'B', 'B']\n"
     ]
    },
    {
     "data": {
      "image/png": "[encoded data removed]",
      "text/plain": [
       "<Figure size 125x156.25 with 1 Axes>"
      ]
     },
     "metadata": {},
     "output_type": "display_data"
    },
    {
     "name": "stdout",
     "output_type": "stream",
     "text": [
      "\n",
      "exploration en largeur (en graphe)\n",
      "\tactions sur le chemin vers la sortie : ['D', 'D', 'D', 'B', 'B', 'B', 'B']\n"
     ]
    },
    {
     "data": {
      "image/png": "[encoded data removed]",
      "text/plain": [
       "<Figure size 125x156.25 with 1 Axes>"
      ]
     },
     "metadata": {},
     "output_type": "display_data"
    },
    {
     "name": "stdout",
     "output_type": "stream",
     "text": [
      "\n",
      "exploration en profondeur (en graphe)\n",
      "\tactions sur le chemin vers la sortie : ['D', 'D', 'D', 'B', 'B', 'B', 'B']\n"
     ]
    },
    {
     "data": {
      "image/png": "[encoded data removed]",
      "text/plain": [
       "<Figure size 125x156.25 with 1 Axes>"
      ]
     },
     "metadata": {},
     "output_type": "display_data"
    }
   ],
   "source": [
    "labProb2 = LabyrinthProblem(labyrinth=lab2)\n",
    "labProb2.labyrinth.show()\n",
    "\n",
    "print(\"\\nexploration en largeur (en arbre)\")\n",
    "res2bt = breadth_first_tree_search(labProb2)\n",
    "etats2bt = path_states(res2bt)\n",
    "print(\"\\tétats sur le chemin vers la sortie : \" + str(etats2bt))\n",
    "print(\"\\tactions sur le chemin vers la sortie : \" + str(path_actions(res2bt)))\n",
    "labProb2.labyrinth.show(Stack(etats2bt))\n",
    "\n",
    "# print(\"\\nexploration en profondeur (en arbre)\")\n",
    "# res2dt = depth_first_tree_search(labProb2)\n",
    "# etats2dt = path_states(res2dt)\n",
    "# print(\"\\tétats sur le chemin vers la sortie : \" + str(etats2dt))\n",
    "# print(\"\\tactions sur le chemin vers la sortie : \" + str(path_actions(res2dt)))\n",
    "# labProb2.labyrinth.show(Stack(etats2dt))\n",
    "\n",
    "print(\"\\nexploration en largeur (en graphe)\")\n",
    "res2bg = breadth_first_graph_search(labProb2)\n",
    "etats2bg = path_states(res2bg)\n",
    "print(\"\\tactions sur le chemin vers la sortie : \" + str(path_actions(res2bg)))\n",
    "labProb2.labyrinth.show(Stack(etats2bg))\n",
    "\n",
    "print(\"\\nexploration en profondeur (en graphe)\")\n",
    "res2dg = depth_first_graph_search(labProb2)\n",
    "etats2dg = path_states(res2dg)\n",
    "print(\"\\tactions sur le chemin vers la sortie : \" + str(path_actions(res2dg)))\n",
    "labProb2.labyrinth.show(Stack(etats2dg))\n"
   ]
  },
  {
   "attachments": {},
   "cell_type": "markdown",
   "metadata": {},
   "source": [
    "### Question 10 : comparer le nombre de noeuds générés et visités, par algorithme"
   ]
  }
 ],
 "metadata": {
  "kernelspec": {
   "display_name": "base",
   "language": "python",
   "name": "python3"
  },
  "language_info": {
   "codemirror_mode": {
    "name": "ipython",
    "version": 3
   },
   "file_extension": ".py",
   "mimetype": "text/x-python",
   "name": "python",
   "nbconvert_exporter": "python",
   "pygments_lexer": "ipython3",
   "version": "3.12.6"
  },
  "orig_nbformat": 4,
  "vscode": {
   "interpreter": {
    "hash": "81117c8c447e168d9a38a96a9ef319fcd55e71c398ce2c2fd7c7a590e37bb453"
   }
  }
 },
 "nbformat": 4,
 "nbformat_minor": 2
}
