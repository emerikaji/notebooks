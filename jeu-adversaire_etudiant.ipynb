{
 "cells": [
  {
   "cell_type": "markdown",
   "metadata": {},
   "source": [
    "# Jeux avec adversaires\n",
    "\n",
    "Dans ce TP, nous allons implémenter des jeux avec adversaires, en prenant le jeu du tic-tac-toe et celui du Puissance 4."
   ]
  },
  {
   "cell_type": "code",
   "execution_count": 495,
   "metadata": {},
   "outputs": [],
   "source": [
    "from collections import defaultdict\n",
    "import random\n",
    "import math\n",
    "from typing import List, Any"
   ]
  },
  {
   "cell_type": "markdown",
   "metadata": {},
   "source": [
    "## Classe `Game`\n",
    "\n",
    "On définit tout d'abord une classe abstraite `Game`, pour représenter des jeux avec adversaires qui jouent à tour de rôle.\n",
    "\n",
    "Cette représentation s'appuie sur le concept d'état, `state`, qui sera défini par chacun des jeux à proprement parlé. Chaque état requiert la définition d'un attribut `state.to_move`, qui donne le nom du joueur dont c'est le tour de jeu (par exemple, pour le tic-tac-toe, un joueur sera `'X'` et l'autre joueur sera `'O'`). \n"
   ]
  },
  {
   "cell_type": "code",
   "execution_count": 496,
   "metadata": {},
   "outputs": [],
   "source": [
    "class State:\n",
    "    def __init__(self, to_move: str):\n",
    "        self.to_move = to_move"
   ]
  },
  {
   "cell_type": "code",
   "execution_count": 497,
   "metadata": {},
   "outputs": [],
   "source": [
    "class Game:\n",
    "    \"\"\"A game is similar to a problem, but it has a terminal test instead of \n",
    "    a goal test, and a utility for each terminal state. To create a game, \n",
    "    subclass this class and implement `actions`, `result`, `is_terminal`, \n",
    "    and `utility`. You will also need to set the .initial attribute to the \n",
    "    initial state; this can be done in the constructor.\"\"\"\n",
    "\n",
    "    def actions(self, state: State):\n",
    "        \"\"\"Return a collection of the allowable moves from this state.\"\"\"\n",
    "        raise NotImplementedError\n",
    "\n",
    "    def result(self, state: State, move):\n",
    "        \"\"\"Return the state that results from making a move from a state.\"\"\"\n",
    "        raise NotImplementedError\n",
    "\n",
    "    def is_terminal(self, state: State):\n",
    "        \"\"\"Return True if this is a final state for the game.\"\"\"\n",
    "        return not self.actions(state)\n",
    "    \n",
    "    def utility(self, state: State, player: str):\n",
    "        \"\"\"Return the value of this final state to player.\"\"\"\n",
    "        raise NotImplementedError\n",
    "    \n",
    "    def process_human_input(self, input: str):\n",
    "        \"\"\"Convert human input into a game state.\"\"\"\n",
    "        raise NotImplementedError\n",
    "        \n"
   ]
  },
  {
   "cell_type": "markdown",
   "metadata": {},
   "source": [
    "## Algorithme de jeu min-max\n",
    "\n",
    "Chaque algorithme de jeu prend 2 paramètres : le jeu considéré (représenté par un objet de type `Game`) et l'état courant du jeu (représenté par un objet de type `State`). Cet algorithme retourne une paire `(value, move)` dans laquelle `value` est la valeur de fonction d'évaluation donnée par l'algorithme pour le joueur dont c'est le tour de jeu et `move` est le déplacement à effectuer.\n"
   ]
  },
  {
   "cell_type": "code",
   "execution_count": 498,
   "metadata": {},
   "outputs": [],
   "source": [
    "# constante pour représenter la valeur infinie (peut ensuite être utilisée en +infinity ou -infinity)\n",
    "infinity = math.inf"
   ]
  },
  {
   "cell_type": "markdown",
   "metadata": {},
   "source": [
    "### Question 1 : implémenter la méthode `minimax_search`, en implémentant les 2 sous-fonctions `max_value` et `min_value` (voir la définition de ces fonctions donnée sur le slide 11 du cours)."
   ]
  },
  {
   "cell_type": "code",
   "execution_count": 499,
   "metadata": {},
   "outputs": [],
   "source": [
    "\"\"\"Search game tree to determine best move; return (value, move) pair.\"\"\"\n",
    "def minimax_search(game: Game, state: State) -> tuple[float, Any]:\n",
    "    player = state.to_move\n",
    "\n",
    "    def max_value(state: State) -> tuple[float, Any]:\n",
    "        if game.is_terminal(state):\n",
    "            return game.utility(state, player), state\n",
    "        \n",
    "        best_value = -infinity\n",
    "        best_action = None\n",
    "\n",
    "        for action in game.actions(state):\n",
    "            new_value, _ = min_value(game.result(state, action))\n",
    "\n",
    "            if new_value > best_value:\n",
    "                best_value = new_value\n",
    "                best_action = action\n",
    "\n",
    "        return best_value, best_action\n",
    "\n",
    "\n",
    "    def min_value(state: State) -> tuple[float, Any]:\n",
    "        if game.is_terminal(state):\n",
    "            return game.utility(state, player), state\n",
    "        \n",
    "        best_value = +infinity\n",
    "        best_action = None\n",
    "\n",
    "        for action in game.actions(state):\n",
    "            new_value, _ = max_value(game.result(state, action))\n",
    "\n",
    "            if new_value < best_value:\n",
    "                best_value = new_value\n",
    "                best_action = action\n",
    "\n",
    "        return best_value, best_action\n",
    "\n",
    "    return max_value(state)\n"
   ]
  },
  {
   "cell_type": "markdown",
   "metadata": {},
   "source": [
    "## Classe `Board`\n",
    "\n",
    "Les états du tic-tac-toe sont représentés par un plateau de jeu, `Board`, qui est une sous-classe de `defaultdict`? Cette dernière consiste en un dictionnaire de couples `{(x, y): contents}`. Par exemple, `{(0, 0): 'X', (1, 1): 'O'}` sera l'état du plateau de jeu, obtenu après 2 tours de jeu. En plus du contenu des cases, un plateau de jeu a d'autres attributs : \n",
    "- `.to_move` pour indiquer le nom du joueur dont c'est le tour de jeu ; \n",
    "- `.width` et `.height` pour donner la largeur et la hauteur du plateau de jeu (toutes les 2 égales à 3 pour le tic-tac-toe mais avec des valeurs différentes pour d'autres jeux tels que le Puissance 4) ;\n",
    "- possiblement d'autres attributs, spécifiés par des mots-clés. \n",
    "\n",
    "En tant qu'objet `defaultdict`, la classe `Board` a une méthode `__missing__`, qui retourne `empty` pour les cases qui n'ont pas encore été jouées mais qui sont comprises dans le plateau de jeu (à l'intérieur des frontières du plateau défini par `width` × `height`) et `off` sinon (pour les cases hors des frontières du plateau de jeu). \n",
    "La classe a une méthode `__hash__` pour que les objets puissent être stockés dans des tables de hachage."
   ]
  },
  {
   "cell_type": "code",
   "execution_count": 500,
   "metadata": {},
   "outputs": [],
   "source": [
    "class Board(defaultdict, State):\n",
    "    \"\"\"A board has the player to move, a cached utility value, \n",
    "    and a dict of {(x, y): player} entries, where player is 'X' or 'O'.\"\"\"\n",
    "    empty = '.'\n",
    "    off = '#'\n",
    "    \n",
    "    def __init__(self, width=8, height=8, to_move=None, **kwds):\n",
    "        self.__dict__.update(width=width, height=height, to_move=to_move, **kwds)\n",
    "        \n",
    "    def new(self, changes: dict, **kwds) -> 'Board':\n",
    "        \"Given a dict of {(x, y): contents} changes, return a new Board with the changes.\"\n",
    "        board = Board(width=self.width, height=self.height, **kwds)\n",
    "        board.update(self)\n",
    "        board.update(changes)\n",
    "        return board\n",
    "\n",
    "    def __missing__(self, loc: tuple[int, int]):\n",
    "        x, y = loc\n",
    "        if 0 <= x < self.width and 0 <= y < self.height:\n",
    "            return self.empty\n",
    "        else:\n",
    "            return self.off\n",
    "            \n",
    "    def __hash__(self): \n",
    "        return hash(tuple(sorted(self.items()))) + hash(self.to_move)\n",
    "    \n",
    "    def __repr__(self):\n",
    "        def row(y): return ' '.join(self[x, y] for x in range(self.width))\n",
    "        return '\\n'.join(map(row, range(self.height))) +  '\\n'"
   ]
  },
  {
   "cell_type": "markdown",
   "metadata": {},
   "source": [
    "## Joueurs\n",
    "\n",
    "Nous avons besoin d'une interface pour représenter des joueurs.\n",
    "Un joueur sera représenté par une fonction qui aura 2 paramètres, `(game, state)`, et qui retournera un coup, `move`.\n"
   ]
  },
  {
   "cell_type": "markdown",
   "metadata": {},
   "source": [
    "\n",
    "La fonction `player` crée un joueur en spécifiant l'algorithme de jeu utilisé."
   ]
  },
  {
   "cell_type": "code",
   "execution_count": 501,
   "metadata": {},
   "outputs": [],
   "source": [
    "def player(search_algorithm):\n",
    "    \"\"\"A game player who uses the specified search algorithm\"\"\"\n",
    "    return lambda game, state: search_algorithm(game, state)[1]"
   ]
  },
  {
   "cell_type": "markdown",
   "metadata": {},
   "source": [
    "La fonction `random_player` représente un joueur qui choisit un coup à jouer, de manière aléatoire."
   ]
  },
  {
   "cell_type": "code",
   "execution_count": 502,
   "metadata": {},
   "outputs": [],
   "source": [
    "def random_player(game, state): \n",
    "    return random.choice(list(game.actions(state)))"
   ]
  },
  {
   "cell_type": "markdown",
   "metadata": {},
   "source": [
    "### Question 2 : implémenter la fonction human_player qui demande d'entrer un coup à jouer (au clavier) et qui retourne le coup choisi."
   ]
  },
  {
   "cell_type": "code",
   "execution_count": 503,
   "metadata": {},
   "outputs": [],
   "source": [
    "from time import sleep\n",
    "\n",
    "def human_player(game: Game, state: State):\n",
    "    print(state)\n",
    "    sleep(2)\n",
    "    action_str = input(\"Select your next move position:\")\n",
    "    return game.process_human_input(action_str)"
   ]
  },
  {
   "cell_type": "markdown",
   "metadata": {},
   "source": [
    "## Jouer une partie d'un jeu avec adversaire\n",
    "\n",
    "Pour pouvoir jouer une partie avec 2 joueurs, on définit tout d'abord la fonction `play_game` qui prend, en paramètres, un objet `Game` et un dictionnaire de 2 éléments `{player_name: strategy_function}` (on associe ainsi une stratégie de jeu à chaque joueur dont on donne le nom) et qui joue un jeu avec adversaire. A chaque tour de jeu, on utilise `state.to_move` pour savoir quel joueur doit jouer le tour de jeu courant et on utilise la stratégie de jeu associée au joueur courant pour choisir le coup à jouer."
   ]
  },
  {
   "cell_type": "code",
   "execution_count": 504,
   "metadata": {},
   "outputs": [],
   "source": [
    "\"\"\"Play a turn-taking game. `strategies` is a {player_name: function} dict,\n",
    "    where function(state, game) is used to get the player's move.\"\"\"\n",
    "def play_game(game: Game, strategies: dict, verbose=False):\n",
    "    state = game.initial\n",
    "    while not game.is_terminal(state):\n",
    "        player = state.to_move\n",
    "        move = strategies[player](game, state)\n",
    "        state = game.result(state, move)\n",
    "        if verbose: \n",
    "            print('Player', player, 'move:', move)\n",
    "            print(state)\n",
    "    return state"
   ]
  },
  {
   "cell_type": "markdown",
   "metadata": {},
   "source": [
    "## Jeu 1 : jeu du Tic-Tac-Toe\n",
    "\n",
    "Les coups sont définis par des paires `(x, y)`, avec `(0, 0)` le coup en haut à gauche et `(2, 2)` celui en bas à droite (le plateau de jeu est de taille `height=width=3`)."
   ]
  },
  {
   "cell_type": "markdown",
   "metadata": {},
   "source": [
    "### Question 3 : implémenter la classe `TicTacToe`."
   ]
  },
  {
   "cell_type": "code",
   "execution_count": 505,
   "metadata": {},
   "outputs": [],
   "source": [
    "class TicTacToe(Game):\n",
    "    \"\"\"Play TicTacToe on an `height` by `width` board, needing `k` in a row to win.\n",
    "    'X' plays first against 'O'.\"\"\"\n",
    "\n",
    "    player_x = 'X'\n",
    "    player_o = 'O'\n",
    "\n",
    "    def __init__(self, height=3, width=3, k=3):\n",
    "        self.k = k # k in a row\n",
    "        self.squares = {(x, y) for x in range(width) for y in range(height)}\n",
    "        self.initial = Board(height=height, width=width, to_move=self.player_x, utility=0)\n",
    "\n",
    "    def actions(self, board: Board) -> List[tuple[int, int]]:\n",
    "        possible = []\n",
    "\n",
    "        for square in self.squares:\n",
    "            if board[square] == board.empty:\n",
    "                possible.append(square)\n",
    "\n",
    "        return possible\n",
    "\n",
    "    def result(self, board: Board, square: tuple[int, int]) -> Board:\n",
    "        \"\"\"Place a marker for current player on square.\"\"\"\n",
    "        new_board = board.new({square: board.to_move})\n",
    "\n",
    "        if board.to_move == self.player_x:\n",
    "            new_board.to_move = self.player_o\n",
    "        else:\n",
    "            new_board.to_move = self.player_x\n",
    "\n",
    "        return new_board\n",
    "\n",
    "    def utility(self, board: Board, player: str) -> int:\n",
    "        \"\"\"Return the value to player; 1 for win, -1 for loss, 0 otherwise.\"\"\"\n",
    "        if player == self.player_x:\n",
    "            mult = 1\n",
    "        else:\n",
    "            mult = -1\n",
    "\n",
    "        for square in self.squares:\n",
    "            if k_in_row(board, self.player_x, square, self.k):\n",
    "                return mult*1\n",
    "            \n",
    "            if k_in_row(board, self.player_o, square, self.k):\n",
    "                return mult*-1\n",
    "        \n",
    "        return 0\n",
    "\n",
    "    def is_terminal(self, board: Board) -> bool:\n",
    "        \"\"\"A board is a terminal state if it is won or there are no empty squares.\"\"\"\n",
    "        no_empty = True\n",
    "\n",
    "        for square in self.squares:\n",
    "            if no_empty:\n",
    "                if board[square] == board.empty:\n",
    "                    no_empty = False\n",
    "\n",
    "            if k_in_row(board, self.player_x, square, self.k):\n",
    "                return True\n",
    "            \n",
    "            if k_in_row(board, self.player_o, square, self.k):\n",
    "                return True\n",
    "\n",
    "        return no_empty\n",
    "\n",
    "    def display(self, board): \n",
    "        print(board)  \n",
    "\n",
    "    def process_human_input(self, input: str) -> tuple[int, int]:\n",
    "        pos = input.split(\",\")\n",
    "\n",
    "        return int(pos[0]), int(pos[1])\n",
    "\n",
    "\n",
    "def k_in_row(board, player, square, k):\n",
    "    \"\"\"True if player has k pieces in a line through square.\"\"\"\n",
    "    def in_row(x, y, dx, dy): \n",
    "        return 0 if board[x, y] != player else 1 + in_row(x + dx, y + dy, dx, dy)\n",
    "    return any(in_row(*square, dx, dy) + in_row(*square, -dx, -dy) - 1 >= k\n",
    "               for (dx, dy) in ((0, 1), (1, 0), (1, 1), (1, -1)))"
   ]
  },
  {
   "cell_type": "markdown",
   "metadata": {},
   "source": [
    "### Jouer une partie de tic-tac-toe\n",
    "\n",
    "On peut maintenant jouer une partie entre 2 joueurs, choisis parmi 3 types de joueurs : `random_player`, `human_player` et `player` (en choisissant une stratégie de jeu, ici min-max)."
   ]
  },
  {
   "cell_type": "markdown",
   "metadata": {},
   "source": [
    "#### Partie de Tic-Tac-Toe entre 2 joueurs aléatoires\n"
   ]
  },
  {
   "cell_type": "code",
   "execution_count": 506,
   "metadata": {},
   "outputs": [
    {
     "name": "stdout",
     "output_type": "stream",
     "text": [
      "Player X move: (0, 0)\n",
      "X . .\n",
      ". . .\n",
      ". . .\n",
      "\n",
      "Player O move: (1, 2)\n",
      "X . .\n",
      ". . .\n",
      ". O .\n",
      "\n",
      "Player X move: (0, 2)\n",
      "X . .\n",
      ". . .\n",
      "X O .\n",
      "\n",
      "Player O move: (1, 1)\n",
      "X . .\n",
      ". O .\n",
      "X O .\n",
      "\n",
      "Player X move: (2, 2)\n",
      "X . .\n",
      ". O .\n",
      "X O X\n",
      "\n",
      "Player O move: (0, 1)\n",
      "X . .\n",
      "O O .\n",
      "X O X\n",
      "\n",
      "Player X move: (2, 0)\n",
      "X . X\n",
      "O O .\n",
      "X O X\n",
      "\n",
      "Player O move: (2, 1)\n",
      "X . X\n",
      "O O O\n",
      "X O X\n",
      "\n",
      "X . X\n",
      "O O O\n",
      "X O X\n",
      "\n"
     ]
    }
   ],
   "source": [
    "# partie de Tic-Tac-Toe entre 2 joueurs aléatoires\n",
    "print(play_game(TicTacToe(), dict(X=random_player, O=random_player), verbose=True))"
   ]
  },
  {
   "cell_type": "markdown",
   "metadata": {},
   "source": [
    "#### Question 4 : reprenez l'appel à la fonction `play_game` pour faire jouer des joueurs avec un stratégie de jeu min-max ainsi qu'un joueur humain."
   ]
  },
  {
   "cell_type": "markdown",
   "metadata": {},
   "source": [
    "#### Partie de jeu entre un joueur aléatoire et un joueur min-max"
   ]
  },
  {
   "cell_type": "code",
   "execution_count": 507,
   "metadata": {},
   "outputs": [
    {
     "name": "stdout",
     "output_type": "stream",
     "text": [
      "Player X move: (2, 2)\n",
      ". . .\n",
      ". . .\n",
      ". . X\n",
      "\n"
     ]
    },
    {
     "name": "stdout",
     "output_type": "stream",
     "text": [
      "Player O move: (1, 1)\n",
      ". . .\n",
      ". O .\n",
      ". . X\n",
      "\n",
      "Player X move: (0, 2)\n",
      ". . .\n",
      ". O .\n",
      "X . X\n",
      "\n",
      "Player O move: (1, 2)\n",
      ". . .\n",
      ". O .\n",
      "X O X\n",
      "\n",
      "Player X move: (0, 0)\n",
      "X . .\n",
      ". O .\n",
      "X O X\n",
      "\n",
      "Player O move: (0, 1)\n",
      "X . .\n",
      "O O .\n",
      "X O X\n",
      "\n",
      "Player X move: (2, 0)\n",
      "X . X\n",
      "O O .\n",
      "X O X\n",
      "\n",
      "Player O move: (2, 1)\n",
      "X . X\n",
      "O O O\n",
      "X O X\n",
      "\n",
      "X . X\n",
      "O O O\n",
      "X O X\n",
      "\n"
     ]
    }
   ],
   "source": [
    "print(play_game(TicTacToe(), dict(X=random_player, O=player(minimax_search)), verbose=True))"
   ]
  },
  {
   "cell_type": "markdown",
   "metadata": {},
   "source": [
    "#### Partie de jeu entre un joueur aléatoire et un joueur humain"
   ]
  },
  {
   "cell_type": "code",
   "execution_count": 511,
   "metadata": {},
   "outputs": [
    {
     "name": "stdout",
     "output_type": "stream",
     "text": [
      ". . .\n",
      "X . .\n",
      ". . .\n",
      "\n",
      ". . .\n",
      "X O .\n",
      ". X .\n",
      "\n",
      "X . .\n",
      "X O .\n",
      ". X O\n",
      "\n",
      "X . X\n",
      "X O .\n",
      "O X O\n",
      "\n",
      "X O X\n",
      "X O X\n",
      "O X O\n",
      "\n"
     ]
    }
   ],
   "source": [
    "print(play_game(TicTacToe(), dict(X=player(minimax_search), O=human_player)))"
   ]
  },
  {
   "cell_type": "markdown",
   "metadata": {},
   "source": [
    "## Jeu 2 : Puissance 4\n",
    "\n",
    "Le Puissance 4 est une variante du tic-tac-toe, joué sur un plateau plus grand (de taille 7x6), et avec la restriction de pouvoir jouer dans un colonne uniquement dans la position la plus basse de celle-ci. \n",
    "Seuls le constructeur et la fonction `actions` sont à redéfinir, par rapport à la classe `TicTacToe`."
   ]
  },
  {
   "cell_type": "markdown",
   "metadata": {},
   "source": [
    "### Question 5 : compléter la classe `ConnectFour`."
   ]
  },
  {
   "cell_type": "code",
   "execution_count": null,
   "metadata": {},
   "outputs": [],
   "source": [
    "class ConnectFour(TicTacToe):\n",
    "    \n",
    "    def __init__(self): super().__init__(width=7, height=6, k=4)\n",
    "\n",
    "    def actions(self, board):\n",
    "        \"\"\"In each column you can play only the lowest empty square in the column.\"\"\"\n",
    "        raise NotImplementedError"
   ]
  },
  {
   "cell_type": "markdown",
   "metadata": {},
   "source": [
    "### Jouer une partie de Puissance 4\n",
    "\n",
    "On peut maintenant jouer une partie entre 2 joueurs, choisis parmi 3 types de joueurs : `random_player`, `human_player` et `player`."
   ]
  },
  {
   "cell_type": "code",
   "execution_count": null,
   "metadata": {
    "scrolled": false
   },
   "outputs": [
    {
     "ename": "NotImplementedError",
     "evalue": "",
     "output_type": "error",
     "traceback": [
      "\u001b[0;31m---------------------------------------------------------------------------\u001b[0m",
      "\u001b[0;31mNotImplementedError\u001b[0m                       Traceback (most recent call last)",
      "Cell \u001b[0;32mIn[481], line 1\u001b[0m\n\u001b[0;32m----> 1\u001b[0m \u001b[43mplay_game\u001b[49m\u001b[43m(\u001b[49m\u001b[43mConnectFour\u001b[49m\u001b[43m(\u001b[49m\u001b[43m)\u001b[49m\u001b[43m,\u001b[49m\u001b[43m \u001b[49m\u001b[38;5;28;43mdict\u001b[39;49m\u001b[43m(\u001b[49m\u001b[43mX\u001b[49m\u001b[38;5;241;43m=\u001b[39;49m\u001b[43mrandom_player\u001b[49m\u001b[43m,\u001b[49m\u001b[43m \u001b[49m\u001b[43mO\u001b[49m\u001b[38;5;241;43m=\u001b[39;49m\u001b[43mrandom_player\u001b[49m\u001b[43m)\u001b[49m\u001b[43m,\u001b[49m\u001b[43m \u001b[49m\u001b[43mverbose\u001b[49m\u001b[38;5;241;43m=\u001b[39;49m\u001b[38;5;28;43;01mTrue\u001b[39;49;00m\u001b[43m)\u001b[49m\u001b[38;5;241m.\u001b[39mutility\n",
      "Cell \u001b[0;32mIn[475], line 7\u001b[0m, in \u001b[0;36mplay_game\u001b[0;34m(game, strategies, verbose)\u001b[0m\n\u001b[1;32m      5\u001b[0m \u001b[38;5;28;01mwhile\u001b[39;00m \u001b[38;5;129;01mnot\u001b[39;00m game\u001b[38;5;241m.\u001b[39mis_terminal(state):\n\u001b[1;32m      6\u001b[0m     player \u001b[38;5;241m=\u001b[39m state\u001b[38;5;241m.\u001b[39mto_move\n\u001b[0;32m----> 7\u001b[0m     move \u001b[38;5;241m=\u001b[39m \u001b[43mstrategies\u001b[49m\u001b[43m[\u001b[49m\u001b[43mplayer\u001b[49m\u001b[43m]\u001b[49m\u001b[43m(\u001b[49m\u001b[43mgame\u001b[49m\u001b[43m,\u001b[49m\u001b[43m \u001b[49m\u001b[43mstate\u001b[49m\u001b[43m)\u001b[49m\n\u001b[1;32m      8\u001b[0m     state \u001b[38;5;241m=\u001b[39m game\u001b[38;5;241m.\u001b[39mresult(state, move)\n\u001b[1;32m      9\u001b[0m     \u001b[38;5;28;01mif\u001b[39;00m verbose: \n",
      "Cell \u001b[0;32mIn[473], line 2\u001b[0m, in \u001b[0;36mrandom_player\u001b[0;34m(game, state)\u001b[0m\n\u001b[1;32m      1\u001b[0m \u001b[38;5;28;01mdef\u001b[39;00m \u001b[38;5;21mrandom_player\u001b[39m(game, state): \n\u001b[0;32m----> 2\u001b[0m     \u001b[38;5;28;01mreturn\u001b[39;00m random\u001b[38;5;241m.\u001b[39mchoice(\u001b[38;5;28mlist\u001b[39m(\u001b[43mgame\u001b[49m\u001b[38;5;241;43m.\u001b[39;49m\u001b[43mactions\u001b[49m\u001b[43m(\u001b[49m\u001b[43mstate\u001b[49m\u001b[43m)\u001b[49m))\n",
      "Cell \u001b[0;32mIn[480], line 7\u001b[0m, in \u001b[0;36mConnectFour.actions\u001b[0;34m(self, board)\u001b[0m\n\u001b[1;32m      5\u001b[0m \u001b[38;5;28;01mdef\u001b[39;00m \u001b[38;5;21mactions\u001b[39m(\u001b[38;5;28mself\u001b[39m, board):\n\u001b[1;32m      6\u001b[0m \u001b[38;5;250m    \u001b[39m\u001b[38;5;124;03m\"\"\"In each column you can play only the lowest empty square in the column.\"\"\"\u001b[39;00m\n\u001b[0;32m----> 7\u001b[0m     \u001b[38;5;28;01mraise\u001b[39;00m \u001b[38;5;167;01mNotImplementedError\u001b[39;00m\n",
      "\u001b[0;31mNotImplementedError\u001b[0m: "
     ]
    }
   ],
   "source": [
    "play_game(ConnectFour(), dict(X=random_player, O=random_player), verbose=True).utility"
   ]
  },
  {
   "cell_type": "markdown",
   "metadata": {},
   "source": [
    "### Question 6 : reprenez l'appel à la fonction `play_game` pour faire jouer des joueurs avec un stratégie de jeu min-max ainsi qu'un joueur humain."
   ]
  },
  {
   "cell_type": "code",
   "execution_count": null,
   "metadata": {},
   "outputs": [],
   "source": [
    "#todo"
   ]
  }
 ],
 "metadata": {
  "kernelspec": {
   "display_name": "usr",
   "language": "python",
   "name": "python3"
  },
  "language_info": {
   "codemirror_mode": {
    "name": "ipython",
    "version": 3
   },
   "file_extension": ".py",
   "mimetype": "text/x-python",
   "name": "python",
   "nbconvert_exporter": "python",
   "pygments_lexer": "ipython3",
   "version": "3.12.7"
  }
 },
 "nbformat": 4,
 "nbformat_minor": 2
}
